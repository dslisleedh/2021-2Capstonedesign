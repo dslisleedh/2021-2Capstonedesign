{
 "cells": [
  {
   "cell_type": "markdown",
   "id": "7b3583c5-5258-4e59-88c0-2df0c4c3d1b3",
   "metadata": {},
   "source": [
    "<h1> 2021-2 캡스톤 디자인 </h1>  \n",
    "\n",
    "\n",
    "<h3>목표 : 대출량 예측 및 우선 대출 도서 선정 모델 개발</h3>  "
   ]
  },
  {
   "cell_type": "markdown",
   "id": "a760fe20-e02d-4899-a53a-9e85179bcd14",
   "metadata": {},
   "source": [
    "데이터 수집 :  \n",
    "1.도서관 정보나루 API 에서 국립세종도서관의 대출 데이터 수집  \n",
    "2.국립중앙도서관 Open API에서 서지정보 수집 "
   ]
  },
  {
   "cell_type": "code",
   "execution_count": 74,
   "id": "c87c0533-c18b-420b-be09-51ed92d21e27",
   "metadata": {},
   "outputs": [],
   "source": [
    "import pandas as pd\n",
    "import numpy as np\n",
    "import json\n",
    "from urllib.request import urlopen, Request\n",
    "import urllib\n",
    "import requests\n",
    "import re\n",
    "from konlpy.tag import Okt\n",
    "from gensim import models\n",
    "import time\n",
    "from tqdm import trange\n",
    "from PIL import Image"
   ]
  },
  {
   "cell_type": "code",
   "execution_count": 6,
   "id": "ac0b22ae-8d55-4c6a-bfe7-10114624d0b9",
   "metadata": {},
   "outputs": [],
   "source": [
    "jn_key = 'f8a1ee19fb60a1fe7d89fbefd5a1ee729d4a67be99b748cdef74e3b1381f9e6e'"
   ]
  },
  {
   "cell_type": "code",
   "execution_count": 36,
   "id": "9a503087-ccb4-4ae7-a1d9-b2321cd23962",
   "metadata": {},
   "outputs": [
    {
     "name": "stderr",
     "output_type": "stream",
     "text": [
      "100%|████████████████████████████████████████████████████████████████████████████████| 851/851 [26:38<00:00,  1.88s/it]\n"
     ]
    }
   ],
   "source": [
    "isbn = []\n",
    "loan_time = []\n",
    "\n",
    "\n",
    "url = f'http://data4library.kr/api/itemSrch?&libCode=50001&authKey={jn_key}&pageNo={1}&pageSize=100&format=json&startDt=2020-08-31&endDt=2021-08-31'\n",
    "res = urlopen(url)\n",
    "res_m = res.read().decode('utf-8')\n",
    "res_json = json.loads(res_m)\n",
    "pc = res_json['response']['numFound'] // 100 if (res_json['response']['numFound'] % 100) == 0 else (res_json['response']['numFound'] // 100) + 1\n",
    "\n",
    "for i in trange(1, pc + 1):\n",
    "    url = f'http://data4library.kr/api/itemSrch?&libCode=50001&authKey={jn_key}&pageNo={i}&pageSize=100&format=json&startDt=2020-08-31&endDt=2021-08-31'\n",
    "    res = urlopen(url)\n",
    "    res_m = res.read().decode('utf-8')\n",
    "    res_json = json.loads(res_m)\n",
    "    for j in res_json['response']['docs']:\n",
    "        isbn.append(j['doc']['isbn13'])\n",
    "        loan_time.append(j['doc']['reg_date'])"
   ]
  },
  {
   "cell_type": "code",
   "execution_count": 38,
   "id": "4741aab7-a8f8-4453-9a3b-2892e600f3e7",
   "metadata": {},
   "outputs": [
    {
     "data": {
      "text/html": [
       "<div>\n",
       "<style scoped>\n",
       "    .dataframe tbody tr th:only-of-type {\n",
       "        vertical-align: middle;\n",
       "    }\n",
       "\n",
       "    .dataframe tbody tr th {\n",
       "        vertical-align: top;\n",
       "    }\n",
       "\n",
       "    .dataframe thead th {\n",
       "        text-align: right;\n",
       "    }\n",
       "</style>\n",
       "<table border=\"1\" class=\"dataframe\">\n",
       "  <thead>\n",
       "    <tr style=\"text-align: right;\">\n",
       "      <th></th>\n",
       "      <th>isbn</th>\n",
       "      <th>loan_time</th>\n",
       "    </tr>\n",
       "  </thead>\n",
       "  <tbody>\n",
       "    <tr>\n",
       "      <th>0</th>\n",
       "      <td>9791160947427</td>\n",
       "      <td>2021-08-31</td>\n",
       "    </tr>\n",
       "    <tr>\n",
       "      <th>1</th>\n",
       "      <td>9791191825022</td>\n",
       "      <td>2021-08-31</td>\n",
       "    </tr>\n",
       "    <tr>\n",
       "      <th>2</th>\n",
       "      <td>9788934989349</td>\n",
       "      <td>2021-08-31</td>\n",
       "    </tr>\n",
       "    <tr>\n",
       "      <th>3</th>\n",
       "      <td>9788998940010</td>\n",
       "      <td>2021-08-31</td>\n",
       "    </tr>\n",
       "    <tr>\n",
       "      <th>4</th>\n",
       "      <td>9791187512578</td>\n",
       "      <td>2021-08-31</td>\n",
       "    </tr>\n",
       "    <tr>\n",
       "      <th>...</th>\n",
       "      <td>...</td>\n",
       "      <td>...</td>\n",
       "    </tr>\n",
       "    <tr>\n",
       "      <th>85047</th>\n",
       "      <td>9791190582308</td>\n",
       "      <td>2020-08-31</td>\n",
       "    </tr>\n",
       "    <tr>\n",
       "      <th>85048</th>\n",
       "      <td>9791158511807</td>\n",
       "      <td>2020-08-31</td>\n",
       "    </tr>\n",
       "    <tr>\n",
       "      <th>85049</th>\n",
       "      <td>9791196572846</td>\n",
       "      <td>2020-08-31</td>\n",
       "    </tr>\n",
       "    <tr>\n",
       "      <th>85050</th>\n",
       "      <td>9791190242455</td>\n",
       "      <td>2020-08-31</td>\n",
       "    </tr>\n",
       "    <tr>\n",
       "      <th>85051</th>\n",
       "      <td>9791190710053</td>\n",
       "      <td>2020-08-31</td>\n",
       "    </tr>\n",
       "  </tbody>\n",
       "</table>\n",
       "<p>85052 rows × 2 columns</p>\n",
       "</div>"
      ],
      "text/plain": [
       "                isbn   loan_time\n",
       "0      9791160947427  2021-08-31\n",
       "1      9791191825022  2021-08-31\n",
       "2      9788934989349  2021-08-31\n",
       "3      9788998940010  2021-08-31\n",
       "4      9791187512578  2021-08-31\n",
       "...              ...         ...\n",
       "85047  9791190582308  2020-08-31\n",
       "85048  9791158511807  2020-08-31\n",
       "85049  9791196572846  2020-08-31\n",
       "85050  9791190242455  2020-08-31\n",
       "85051  9791190710053  2020-08-31\n",
       "\n",
       "[85052 rows x 2 columns]"
      ]
     },
     "execution_count": 38,
     "metadata": {},
     "output_type": "execute_result"
    }
   ],
   "source": [
    "loan = pd.DataFrame({'isbn' : isbn, 'loan_time' : loan_time})\n",
    "loan.to_csv('loan.csv',index = False)\n",
    "loan"
   ]
  },
  {
   "cell_type": "code",
   "execution_count": 37,
   "id": "58d50bde-b354-43e1-a0de-c6f72ec887fc",
   "metadata": {},
   "outputs": [],
   "source": [
    "oa_key = '578ca4ba507631e4a9b621f4029400eac427aaf6071b45611e599387b637b6dc'"
   ]
  },
  {
   "cell_type": "code",
   "execution_count": 68,
   "id": "e8175196-421f-4d08-b28b-f07a0a3e538d",
   "metadata": {},
   "outputs": [
    {
     "name": "stderr",
     "output_type": "stream",
     "text": [
      "100%|██████████████████████████████████████████████████████████████████████████| 42279/42279 [1:00:54<00:00, 11.57it/s]\n"
     ]
    }
   ],
   "source": [
    "author = []\n",
    "publish_date = []\n",
    "title = []\n",
    "title_image_url = []\n",
    "pages = []\n",
    "price = []\n",
    "\n",
    "reader = []\n",
    "pub_type = []\n",
    "subject_1 = []\n",
    "subject_2 = []\n",
    "\n",
    "isbn = loan.isbn.value_counts().index\n",
    "blank_isbn = []\n",
    "isbn_loop = []\n",
    "for isb in trange(len(isbn)):\n",
    "    i = isbn[isb] \n",
    "    url = f'http://seoji.nl.go.kr/landingPage/SearchApi.do?cert_key={oa_key}&isbn={i}&result_style=json&page_size=1&page_no=1'\n",
    "    res = requests.get(url)\n",
    "    try:\n",
    "        info = res.json()['docs'][0]\n",
    "    except:\n",
    "        blank_isbn.append(i)\n",
    "        continue\n",
    "        \n",
    "    isbn_loop.append(i)\n",
    "    title.append(info['TITLE'])\n",
    "    title_image_url.append(info['TITLE_URL'])\n",
    "    \n",
    "    if info['REAL_PUBLISH_DATE'] == '':\n",
    "        publish_date.append(info['PUBLISH_PREDATE'])\n",
    "    else:\n",
    "        publish_date.append(info['REAL_PUBLISH_DATE'])\n",
    "        \n",
    "    if info['REAL_PRICE'] == '':\n",
    "        price.append(info['PRE_PRICE'])\n",
    "    else:\n",
    "        price.append(info['REAL_PRICE'])\n",
    "        \n",
    "    try:\n",
    "        ea_code = info['EA_ADD_CODE']\n",
    "        subject_1.append(info['EA_ADD_CODE'][2])\n",
    "        subject_2.append(info['EA_ADD_CODE'][3])\n",
    "        reader.append(info['EA_ADD_CODE'][0])\n",
    "        pub_type.append(info['EA_ADD_CODE'][1])\n",
    "    except:\n",
    "        subject_1.append(np.NaN)\n",
    "        subject_2.append(np.NaN)\n",
    "        reader.append(np.NaN)\n",
    "        pub_type.append(np.NaN)\n",
    "    pages.append(info['PAGE'])\n",
    "    author.append(info['AUTHOR'])"
   ]
  },
  {
   "cell_type": "code",
   "execution_count": null,
   "id": "9d00a292-43e8-41e8-b320-0421686e5f67",
   "metadata": {},
   "outputs": [],
   "source": [
    "book = pd.DataFrame({'isbn' : isbn_loop, 'author' : author, 'pub_date' : publish_date, 'title' : title, 'title_image_url' : title_image_url, 'pages' : pages, 'price' :  price, 'reader' : reader, 'pub_type' : pub_type, 'subject_1' : subject_1, 'subject_2' : subject_2})\n",
    "book.to_csv('book.csv', index = False)"
   ]
  },
  {
   "cell_type": "code",
   "execution_count": 62,
   "id": "844d3c81-4d27-4347-996b-e1f58f63a947",
   "metadata": {},
   "outputs": [
    {
     "data": {
      "text/html": [
       "<div>\n",
       "<style scoped>\n",
       "    .dataframe tbody tr th:only-of-type {\n",
       "        vertical-align: middle;\n",
       "    }\n",
       "\n",
       "    .dataframe tbody tr th {\n",
       "        vertical-align: top;\n",
       "    }\n",
       "\n",
       "    .dataframe thead th {\n",
       "        text-align: right;\n",
       "    }\n",
       "</style>\n",
       "<table border=\"1\" class=\"dataframe\">\n",
       "  <thead>\n",
       "    <tr style=\"text-align: right;\">\n",
       "      <th></th>\n",
       "      <th>isbn</th>\n",
       "      <th>author</th>\n",
       "      <th>pub_date</th>\n",
       "      <th>title</th>\n",
       "      <th>title_image_url</th>\n",
       "      <th>pages</th>\n",
       "      <th>price</th>\n",
       "      <th>reader</th>\n",
       "      <th>pub_type</th>\n",
       "      <th>subject_1</th>\n",
       "      <th>subject_2</th>\n",
       "    </tr>\n",
       "  </thead>\n",
       "  <tbody>\n",
       "    <tr>\n",
       "      <th>0</th>\n",
       "      <td>9788984374164</td>\n",
       "      <td>지은이: 기욤 뮈소 ;옮긴이: 양영란</td>\n",
       "      <td>20201124.0</td>\n",
       "      <td>인생은 소설이다</td>\n",
       "      <td>NaN</td>\n",
       "      <td>311 p.</td>\n",
       "      <td>15000</td>\n",
       "      <td>0.0</td>\n",
       "      <td>3.0</td>\n",
       "      <td>8.0</td>\n",
       "      <td>6.0</td>\n",
       "    </tr>\n",
       "    <tr>\n",
       "      <th>1</th>\n",
       "      <td>9791160953268</td>\n",
       "      <td>충청남도교육청교육연수원 [편]</td>\n",
       "      <td>20190401.0</td>\n",
       "      <td>(2019) 제16기 핵심인재 양성과정</td>\n",
       "      <td>NaN</td>\n",
       "      <td>xvi, 467 p.</td>\n",
       "      <td>비매품/무료</td>\n",
       "      <td>1.0</td>\n",
       "      <td>3.0</td>\n",
       "      <td>3.0</td>\n",
       "      <td>5.0</td>\n",
       "    </tr>\n",
       "    <tr>\n",
       "      <th>2</th>\n",
       "      <td>9788934986652</td>\n",
       "      <td>글:오은영 ;그림: 차상미</td>\n",
       "      <td>20201025.0</td>\n",
       "      <td>어떻게 말해줘야 할까</td>\n",
       "      <td>http://seoji.nl.go.kr/fu/ecip/dbfiles/CIP_FILE...</td>\n",
       "      <td>397 p.</td>\n",
       "      <td>17500</td>\n",
       "      <td>1.0</td>\n",
       "      <td>3.0</td>\n",
       "      <td>5.0</td>\n",
       "      <td>9.0</td>\n",
       "    </tr>\n",
       "    <tr>\n",
       "      <th>3</th>\n",
       "      <td>9791190808125</td>\n",
       "      <td>라곰씨 글 ;차차 그림</td>\n",
       "      <td>20210129.0</td>\n",
       "      <td>(무엇이든 해결단) 허팝 연구소</td>\n",
       "      <td>NaN</td>\n",
       "      <td>124 p.</td>\n",
       "      <td>13000</td>\n",
       "      <td>7.0</td>\n",
       "      <td>4.0</td>\n",
       "      <td>8.0</td>\n",
       "      <td>1.0</td>\n",
       "    </tr>\n",
       "    <tr>\n",
       "      <th>4</th>\n",
       "      <td>9791164137176</td>\n",
       "      <td>흔한남매 원작 ;김언정 글 ;차차 그림</td>\n",
       "      <td>20201215.0</td>\n",
       "      <td>(흔한남매) 별난 방탈출</td>\n",
       "      <td>NaN</td>\n",
       "      <td>126 p.</td>\n",
       "      <td>12000</td>\n",
       "      <td>7.0</td>\n",
       "      <td>7.0</td>\n",
       "      <td>8.0</td>\n",
       "      <td>1.0</td>\n",
       "    </tr>\n",
       "    <tr>\n",
       "      <th>...</th>\n",
       "      <td>...</td>\n",
       "      <td>...</td>\n",
       "      <td>...</td>\n",
       "      <td>...</td>\n",
       "      <td>...</td>\n",
       "      <td>...</td>\n",
       "      <td>...</td>\n",
       "      <td>...</td>\n",
       "      <td>...</td>\n",
       "      <td>...</td>\n",
       "      <td>...</td>\n",
       "    </tr>\n",
       "    <tr>\n",
       "      <th>37312</th>\n",
       "      <td>9788954677547</td>\n",
       "      <td>바버라 오클리 지음 ;김아림 옮김</td>\n",
       "      <td>20210302.0</td>\n",
       "      <td>이과형 두뇌 활용법</td>\n",
       "      <td>NaN</td>\n",
       "      <td>369 p.</td>\n",
       "      <td>17000</td>\n",
       "      <td>0.0</td>\n",
       "      <td>3.0</td>\n",
       "      <td>4.0</td>\n",
       "      <td>0.0</td>\n",
       "    </tr>\n",
       "    <tr>\n",
       "      <th>37313</th>\n",
       "      <td>9791189329068</td>\n",
       "      <td>권미정;김은주;백난희;양승옥;유율희;윤미옥;이지형;임희</td>\n",
       "      <td>20200310.0</td>\n",
       "      <td>당신의 행복은 안녕하신가요?</td>\n",
       "      <td>NaN</td>\n",
       "      <td>307 p.</td>\n",
       "      <td>20000</td>\n",
       "      <td>0.0</td>\n",
       "      <td>3.0</td>\n",
       "      <td>1.0</td>\n",
       "      <td>9.0</td>\n",
       "    </tr>\n",
       "    <tr>\n",
       "      <th>37314</th>\n",
       "      <td>9788997728404</td>\n",
       "      <td>글: 마크 서머셋 ; 그림: 로완 서머셋</td>\n",
       "      <td>20131126.0</td>\n",
       "      <td>똑똑해지는 약</td>\n",
       "      <td>http://seoji.nl.go.kr/fu/ecip/dbfiles/CIP_FILE...</td>\n",
       "      <td>NaN</td>\n",
       "      <td>15000</td>\n",
       "      <td>7.0</td>\n",
       "      <td>7.0</td>\n",
       "      <td>8.0</td>\n",
       "      <td>9.0</td>\n",
       "    </tr>\n",
       "    <tr>\n",
       "      <th>37315</th>\n",
       "      <td>9791189773175</td>\n",
       "      <td>저자 : 윤혜정</td>\n",
       "      <td>20200601.0</td>\n",
       "      <td>민들레야, 잘가</td>\n",
       "      <td>NaN</td>\n",
       "      <td>42</td>\n",
       "      <td>15,000</td>\n",
       "      <td>0.0</td>\n",
       "      <td>7.0</td>\n",
       "      <td>8.0</td>\n",
       "      <td>0.0</td>\n",
       "    </tr>\n",
       "    <tr>\n",
       "      <th>37316</th>\n",
       "      <td>9791190689175</td>\n",
       "      <td>맬컴 더피 글 ;조수연 옮김</td>\n",
       "      <td>20210405.0</td>\n",
       "      <td>은밀하고 위험한 엄마 구출 작전</td>\n",
       "      <td>http://seoji.nl.go.kr/fu/ecip/dbfiles/CIP_FILE...</td>\n",
       "      <td>291 p.</td>\n",
       "      <td>12000</td>\n",
       "      <td>4.0</td>\n",
       "      <td>3.0</td>\n",
       "      <td>8.0</td>\n",
       "      <td>4.0</td>\n",
       "    </tr>\n",
       "  </tbody>\n",
       "</table>\n",
       "<p>37317 rows × 11 columns</p>\n",
       "</div>"
      ],
      "text/plain": [
       "                isbn                          author    pub_date  \\\n",
       "0      9788984374164            지은이: 기욤 뮈소 ;옮긴이: 양영란  20201124.0   \n",
       "1      9791160953268                충청남도교육청교육연수원 [편]  20190401.0   \n",
       "2      9788934986652                  글:오은영 ;그림: 차상미  20201025.0   \n",
       "3      9791190808125                    라곰씨 글 ;차차 그림  20210129.0   \n",
       "4      9791164137176           흔한남매 원작 ;김언정 글 ;차차 그림  20201215.0   \n",
       "...              ...                             ...         ...   \n",
       "37312  9788954677547              바버라 오클리 지음 ;김아림 옮김  20210302.0   \n",
       "37313  9791189329068  권미정;김은주;백난희;양승옥;유율희;윤미옥;이지형;임희  20200310.0   \n",
       "37314  9788997728404          글: 마크 서머셋 ; 그림: 로완 서머셋  20131126.0   \n",
       "37315  9791189773175                        저자 : 윤혜정  20200601.0   \n",
       "37316  9791190689175                 맬컴 더피 글 ;조수연 옮김  20210405.0   \n",
       "\n",
       "                       title  \\\n",
       "0                   인생은 소설이다   \n",
       "1      (2019) 제16기 핵심인재 양성과정   \n",
       "2                어떻게 말해줘야 할까   \n",
       "3          (무엇이든 해결단) 허팝 연구소   \n",
       "4              (흔한남매) 별난 방탈출   \n",
       "...                      ...   \n",
       "37312             이과형 두뇌 활용법   \n",
       "37313        당신의 행복은 안녕하신가요?   \n",
       "37314                똑똑해지는 약   \n",
       "37315               민들레야, 잘가   \n",
       "37316      은밀하고 위험한 엄마 구출 작전   \n",
       "\n",
       "                                         title_image_url        pages   price  \\\n",
       "0                                                    NaN       311 p.   15000   \n",
       "1                                                    NaN  xvi, 467 p.  비매품/무료   \n",
       "2      http://seoji.nl.go.kr/fu/ecip/dbfiles/CIP_FILE...       397 p.   17500   \n",
       "3                                                    NaN       124 p.   13000   \n",
       "4                                                    NaN       126 p.   12000   \n",
       "...                                                  ...          ...     ...   \n",
       "37312                                                NaN       369 p.   17000   \n",
       "37313                                                NaN       307 p.   20000   \n",
       "37314  http://seoji.nl.go.kr/fu/ecip/dbfiles/CIP_FILE...          NaN   15000   \n",
       "37315                                                NaN           42  15,000   \n",
       "37316  http://seoji.nl.go.kr/fu/ecip/dbfiles/CIP_FILE...       291 p.   12000   \n",
       "\n",
       "       reader  pub_type  subject_1  subject_2  \n",
       "0         0.0       3.0        8.0        6.0  \n",
       "1         1.0       3.0        3.0        5.0  \n",
       "2         1.0       3.0        5.0        9.0  \n",
       "3         7.0       4.0        8.0        1.0  \n",
       "4         7.0       7.0        8.0        1.0  \n",
       "...       ...       ...        ...        ...  \n",
       "37312     0.0       3.0        4.0        0.0  \n",
       "37313     0.0       3.0        1.0        9.0  \n",
       "37314     7.0       7.0        8.0        9.0  \n",
       "37315     0.0       7.0        8.0        0.0  \n",
       "37316     4.0       3.0        8.0        4.0  \n",
       "\n",
       "[37317 rows x 11 columns]"
      ]
     },
     "execution_count": 62,
     "metadata": {},
     "output_type": "execute_result"
    }
   ],
   "source": [
    "book"
   ]
  },
  {
   "cell_type": "code",
   "execution_count": 46,
   "id": "fc687b27-3363-4c84-8780-b940559e97d6",
   "metadata": {},
   "outputs": [
    {
     "data": {
      "text/plain": [
       "http://seoji.nl.go.kr/fu/ecip/dbfiles/CIP_FILES_TBL/2019/04/19/9788952799432.JPG    1\n",
       "http://seoji.nl.go.kr/fu/ecip/dbfiles/CIP_FILES_TBL/2020/09/21/9791185788227.jpg    1\n",
       "http://seoji.nl.go.kr/fu/ecip/dbfiles/CIP_FILES_TBL/2020/12/21/9788998153465.jpg    1\n",
       "http://seoji.nl.go.kr/fu/ecip/dbfiles/CIP_FILES_TBL/2020/11/15/9791166340017.jpg    1\n",
       "http://seoji.nl.go.kr/fu/ecip/dbfiles/CIP_FILES_TBL/2019/11/18/9791159314377.jpg    1\n",
       "                                                                                   ..\n",
       "http://seoji.nl.go.kr/fu/ecip/dbfiles/CIP_FILES_TBL/2020/09/07/9791186871805.jpg    1\n",
       "http://seoji.nl.go.kr/fu/ecip/dbfiles/CIP_FILES_TBL/2020/10/26/9791188352395.jpg    1\n",
       "http://seoji.nl.go.kr/fu/ecip/dbfiles/CIP_FILES_TBL/2020/11/10/9791165512446.jpg    1\n",
       "http://seoji.nl.go.kr/fu/ecip/dbfiles/CIP_FILES_TBL/2019/12/23/9791196100308.jpg    1\n",
       "http://seoji.nl.go.kr/fu/ecip/dbfiles/CIP_FILES_TBL/2020/09/11/9791165367947.jpg    1\n",
       "Name: title_image_url, Length: 10397, dtype: int64"
      ]
     },
     "execution_count": 46,
     "metadata": {},
     "output_type": "execute_result"
    }
   ],
   "source": [
    "book.title_image_url.value_counts()"
   ]
  },
  {
   "cell_type": "code",
   "execution_count": 60,
   "id": "5b6a475a-dfaf-42a1-ae43-c1a4e2c77d7c",
   "metadata": {},
   "outputs": [
    {
     "name": "stderr",
     "output_type": "stream",
     "text": [
      "100%|██████████████████████████████████████████████████████████████████████████| 26920/26920 [2:25:43<00:00,  3.08it/s]\n"
     ]
    }
   ],
   "source": [
    "no_image = book.loc[book.title_image_url.isna(), ]\n",
    "isbn = no_image.isbn\n",
    "title_image_url = []\n",
    "\n",
    "for isb in trange(len(isbn)):\n",
    "    try:\n",
    "        i = isbn.iloc[isb]\n",
    "        url = f'http://data4library.kr/api/srchDtlList?authKey={jn_key}&isbn13={i}&format=json'\n",
    "        res = requests.get(url)\n",
    "        title_image_url.append(res.json()['response']['detail'][0]['book']['bookImageURL'])\n",
    "    except:\n",
    "        title_image_url.append(np.NaN)"
   ]
  },
  {
   "cell_type": "code",
   "execution_count": 67,
   "id": "7381ce2d-1294-4c34-b55b-b1da049ba3da",
   "metadata": {},
   "outputs": [
    {
     "name": "stderr",
     "output_type": "stream",
     "text": [
      "100%|███████████████████████████████████████████████████████████████████████████| 26920/26920 [01:03<00:00, 426.13it/s]\n"
     ]
    }
   ],
   "source": [
    "for isb in trange(len(isbn)):\n",
    "    i = isbn.iloc[isb]\n",
    "    book.loc[book.isbn == i,'title_image_url'] = title_image_url[isb]"
   ]
  },
  {
   "cell_type": "code",
   "execution_count": 69,
   "id": "64b52489-d033-4f4d-9199-2ac100d67978",
   "metadata": {},
   "outputs": [
    {
     "data": {
      "text/plain": [
       "                                                                                         7167\n",
       "https://image.aladin.co.kr/product/25836/43/cover/8949105292_1.jpg                          2\n",
       "https://image.aladin.co.kr/product/24936/86/cover/8937472805_1.jpg                          1\n",
       "https://image.aladin.co.kr/product/26122/39/cover/8965642604_1.jpg                          1\n",
       "https://image.aladin.co.kr/product/25243/46/cover/8901244152_1.jpg                          1\n",
       "                                                                                         ... \n",
       "https://bookthumb-phinf.pstatic.net/cover/161/251/16125112.jpg?type=m1&udate=20200122       1\n",
       "http://seoji.nl.go.kr/fu/ecip/dbfiles/CIP_FILES_TBL/2020/11/05/9788996897262.jpg            1\n",
       "https://image.aladin.co.kr/product/26094/6/cover/k712737250_1.jpg                           1\n",
       "http://seoji.nl.go.kr/fu/ecip/dbfiles/CIP_FILES_TBL/2021/01/19/9791160805475.jpg            1\n",
       "http://seoji.nl.go.kr/fu/ecip/dbfiles/CIP_FILES_TBL/2020/09/11/9791165367947.jpg            1\n",
       "Name: title_image_url, Length: 30136, dtype: int64"
      ]
     },
     "execution_count": 69,
     "metadata": {},
     "output_type": "execute_result"
    }
   ],
   "source": [
    "book.title_image_url.value_counts()"
   ]
  },
  {
   "cell_type": "code",
   "execution_count": 90,
   "id": "02267358-5ad8-4760-bad4-d19108f76372",
   "metadata": {},
   "outputs": [
    {
     "name": "stderr",
     "output_type": "stream",
     "text": [
      "  0%|                                                                                        | 0/26920 [00:00<?, ?it/s]\n"
     ]
    },
    {
     "ename": "TypeError",
     "evalue": "ufunc 'isnan' not supported for the input types, and the inputs could not be safely coerced to any supported types according to the casting rule ''safe''",
     "output_type": "error",
     "traceback": [
      "\u001b[1;31m---------------------------------------------------------------------------\u001b[0m",
      "\u001b[1;31mTypeError\u001b[0m                                 Traceback (most recent call last)",
      "\u001b[1;32m<ipython-input-90-d12183df404a>\u001b[0m in \u001b[0;36m<module>\u001b[1;34m\u001b[0m\n\u001b[0;32m      1\u001b[0m \u001b[1;32mfor\u001b[0m \u001b[0misb\u001b[0m \u001b[1;32min\u001b[0m \u001b[0mtrange\u001b[0m\u001b[1;33m(\u001b[0m\u001b[0mlen\u001b[0m\u001b[1;33m(\u001b[0m\u001b[0misbn\u001b[0m\u001b[1;33m)\u001b[0m\u001b[1;33m)\u001b[0m\u001b[1;33m:\u001b[0m\u001b[1;33m\u001b[0m\u001b[1;33m\u001b[0m\u001b[0m\n\u001b[0;32m      2\u001b[0m     \u001b[0mimage_link\u001b[0m \u001b[1;33m=\u001b[0m \u001b[0mbook\u001b[0m\u001b[1;33m.\u001b[0m\u001b[0mtitle_image_url\u001b[0m\u001b[1;33m.\u001b[0m\u001b[0miloc\u001b[0m\u001b[1;33m[\u001b[0m\u001b[0misb\u001b[0m\u001b[1;33m]\u001b[0m\u001b[1;33m\u001b[0m\u001b[1;33m\u001b[0m\u001b[0m\n\u001b[1;32m----> 3\u001b[1;33m     \u001b[1;32mif\u001b[0m \u001b[1;33m(\u001b[0m\u001b[0mimage_link\u001b[0m \u001b[1;33m==\u001b[0m \u001b[1;34m''\u001b[0m \u001b[1;33m)\u001b[0m \u001b[1;33m|\u001b[0m \u001b[1;33m(\u001b[0m\u001b[0mnp\u001b[0m\u001b[1;33m.\u001b[0m\u001b[0misnan\u001b[0m\u001b[1;33m(\u001b[0m\u001b[0mimage_link\u001b[0m\u001b[1;33m)\u001b[0m\u001b[1;33m)\u001b[0m\u001b[1;33m:\u001b[0m\u001b[1;33m\u001b[0m\u001b[1;33m\u001b[0m\u001b[0m\n\u001b[0m\u001b[0;32m      4\u001b[0m         \u001b[1;32mcontinue\u001b[0m\u001b[1;33m\u001b[0m\u001b[1;33m\u001b[0m\u001b[0m\n\u001b[0;32m      5\u001b[0m     \u001b[1;32melse\u001b[0m\u001b[1;33m:\u001b[0m\u001b[1;33m\u001b[0m\u001b[1;33m\u001b[0m\u001b[0m\n",
      "\u001b[1;31mTypeError\u001b[0m: ufunc 'isnan' not supported for the input types, and the inputs could not be safely coerced to any supported types according to the casting rule ''safe''"
     ]
    }
   ],
   "source": [
    "for isb in trange(len(isbn)):\n",
    "    image_link = book.title_image_url.iloc[isb]\n",
    "    if (image_link == '' ) | (np.isnan(image_link)):\n",
    "        continue\n",
    "    else:\n",
    "        urllib.request.urlretrieve(image_link, f'C:/Users/soymi/Desktop/lib_git/2021-2Capstonedesign/image/{book.isbn.iloc[isb]}.jpg',)"
   ]
  },
  {
   "cell_type": "code",
   "execution_count": 79,
   "id": "97ccbad4-0adf-446b-b3f0-9478423bd406",
   "metadata": {},
   "outputs": [
    {
     "data": {
      "text/plain": [
       "('C:/Users/soymi/Desktop/lib_git/2021-2Capstonedesign/image/1.jpg',\n",
       " <http.client.HTTPMessage at 0x1bd151563a0>)"
      ]
     },
     "execution_count": 79,
     "metadata": {},
     "output_type": "execute_result"
    }
   ],
   "source": [
    "url = 'https://image.aladin.co.kr/product/25836/43/cover/8949105292_1.jpg'\n",
    "\n",
    "i = 1\n",
    "\n",
    "urllib.request.urlretrieve(url, f'C:/Users/soymi/Desktop/lib_git/2021-2Capstonedesign/image/{i}.jpg',)"
   ]
  },
  {
   "cell_type": "code",
   "execution_count": 117,
   "id": "c4bcf13b-59cb-40dd-b216-121e5a7e4558",
   "metadata": {},
   "outputs": [
    {
     "name": "stderr",
     "output_type": "stream",
     "text": [
      "100%|██████████████████████████████████████████████████████████████████████████| 30136/30136 [1:24:21<00:00,  5.95it/s]\n"
     ]
    }
   ],
   "source": [
    "only_image = (book.loc[pd.DataFrame({'col1' : book.title_image_url.notna(),'col2' : book.title_image_url != ''}).all(axis = 1), ['isbn','title_image_url']]).reset_index(drop=True)\n",
    "image_isbn = []\n",
    "\n",
    "for i in trange(len(only_image)):\n",
    "    try:\n",
    "        urllib.request.urlretrieve(only_image.iloc[i,1], f'C:/Users/soymi/Desktop/lib_git/2021-2Capstonedesign/image/{only_image.iloc[i,0]}.jpg',)\n",
    "        image_isbn.append(only_image.iloc[i,0])\n",
    "    except:\n",
    "        continue"
   ]
  },
  {
   "cell_type": "code",
   "execution_count": 115,
   "id": "544758a8-a4e2-474d-9ad4-96d922393d5f",
   "metadata": {},
   "outputs": [
    {
     "data": {
      "text/plain": [
       "'https://image.aladin.co.kr/product/26076/92/cover/k862737153_1.jpg'"
      ]
     },
     "execution_count": 115,
     "metadata": {},
     "output_type": "execute_result"
    }
   ],
   "source": [
    "only_image.iloc[i,1]"
   ]
  },
  {
   "cell_type": "code",
   "execution_count": null,
   "id": "7073e49f-7813-44bc-bf5f-f6bde9461034",
   "metadata": {},
   "outputs": [],
   "source": []
  }
 ],
 "metadata": {
  "kernelspec": {
   "display_name": "Python 3",
   "language": "python",
   "name": "python3"
  },
  "language_info": {
   "codemirror_mode": {
    "name": "ipython",
    "version": 3
   },
   "file_extension": ".py",
   "mimetype": "text/x-python",
   "name": "python",
   "nbconvert_exporter": "python",
   "pygments_lexer": "ipython3",
   "version": "3.8.8"
  }
 },
 "nbformat": 4,
 "nbformat_minor": 5
}
