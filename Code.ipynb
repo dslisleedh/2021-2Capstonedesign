{
 "cells": [
  {
   "cell_type": "markdown",
   "id": "7b3583c5-5258-4e59-88c0-2df0c4c3d1b3",
   "metadata": {},
   "source": [
    "<h1> 2021-2 캡스톤 디자인 </h1>  \n",
    "\n",
    "\n",
    "<h3>목표 : 대출량 예측 및 우선 대출 도서 선정 모델 개발</h3>  "
   ]
  },
  {
   "cell_type": "markdown",
   "id": "a760fe20-e02d-4899-a53a-9e85179bcd14",
   "metadata": {},
   "source": [
    "데이터 수집 :  \n",
    "1.도서관 정보나루 API 에서 국립세종도서관의 대출 데이터 수집  \n",
    "2.국립중앙도서관 Open API에서 서지정보 수집 "
   ]
  },
  {
   "cell_type": "code",
   "execution_count": 1,
   "id": "c87c0533-c18b-420b-be09-51ed92d21e27",
   "metadata": {},
   "outputs": [
    {
     "name": "stderr",
     "output_type": "stream",
     "text": [
      "C:\\Users\\soymi\\anaconda3\\lib\\site-packages\\gensim\\similarities\\__init__.py:15: UserWarning: The gensim.similarities.levenshtein submodule is disabled, because the optional Levenshtein package <https://pypi.org/project/python-Levenshtein/> is unavailable. Install Levenhstein (e.g. `pip install python-Levenshtein`) to suppress this warning.\n",
      "  warnings.warn(msg)\n"
     ]
    }
   ],
   "source": [
    "import pandas as pd\n",
    "import numpy as np\n",
    "import json\n",
    "from urllib.request import urlopen, Request\n",
    "import urllib\n",
    "import requests\n",
    "import re\n",
    "from konlpy.tag import Okt\n",
    "from gensim import models\n",
    "import time\n",
    "from tqdm import trange\n",
    "from PIL import Image\n",
    "import joblib\n",
    "import tensorflow as tf\n",
    "from collections import Counter\n",
    "from hyperopt import hp, fmin, tpe, Trials, STATUS_OK\n",
    "from sklearn.model_selection import train_test_split \n",
    "import xgboost as xgb"
   ]
  },
  {
   "cell_type": "code",
   "execution_count": 12,
   "id": "ac0b22ae-8d55-4c6a-bfe7-10114624d0b9",
   "metadata": {},
   "outputs": [],
   "source": [
    "jn_key = 'f8a1ee19fb60a1fe7d89fbefd5a1ee729d4a67be99b748cdef74e3b1381f9e6e'"
   ]
  },
  {
   "cell_type": "code",
   "execution_count": 36,
   "id": "9a503087-ccb4-4ae7-a1d9-b2321cd23962",
   "metadata": {},
   "outputs": [
    {
     "name": "stderr",
     "output_type": "stream",
     "text": [
      "100%|████████████████████████████████████████████████████████████████████████████████| 851/851 [26:38<00:00,  1.88s/it]\n"
     ]
    }
   ],
   "source": [
    "isbn = []\n",
    "loan_time = []\n",
    "\n",
    "\n",
    "url = f'http://data4library.kr/api/itemSrch?&libCode=50001&authKey={jn_key}&pageNo={1}&pageSize=100&format=json&startDt=2020-08-31&endDt=2021-08-31'\n",
    "res = urlopen(url)\n",
    "res_m = res.read().decode('utf-8')\n",
    "res_json = json.loads(res_m)\n",
    "pc = res_json['response']['numFound'] // 100 if (res_json['response']['numFound'] % 100) == 0 else (res_json['response']['numFound'] // 100) + 1\n",
    "\n",
    "for i in trange(1, pc + 1):\n",
    "    url = f'http://data4library.kr/api/itemSrch?&libCode=50001&authKey={jn_key}&pageNo={i}&pageSize=100&format=json&startDt=2020-08-31&endDt=2021-08-31'\n",
    "    res = urlopen(url)\n",
    "    res_m = res.read().decode('utf-8')\n",
    "    res_json = json.loads(res_m)\n",
    "    for j in res_json['response']['docs']:\n",
    "        isbn.append(j['doc']['isbn13'])\n",
    "        loan_time.append(j['doc']['reg_date'])"
   ]
  },
  {
   "cell_type": "code",
   "execution_count": 38,
   "id": "4741aab7-a8f8-4453-9a3b-2892e600f3e7",
   "metadata": {},
   "outputs": [
    {
     "data": {
      "text/html": [
       "<div>\n",
       "<style scoped>\n",
       "    .dataframe tbody tr th:only-of-type {\n",
       "        vertical-align: middle;\n",
       "    }\n",
       "\n",
       "    .dataframe tbody tr th {\n",
       "        vertical-align: top;\n",
       "    }\n",
       "\n",
       "    .dataframe thead th {\n",
       "        text-align: right;\n",
       "    }\n",
       "</style>\n",
       "<table border=\"1\" class=\"dataframe\">\n",
       "  <thead>\n",
       "    <tr style=\"text-align: right;\">\n",
       "      <th></th>\n",
       "      <th>isbn</th>\n",
       "      <th>loan_time</th>\n",
       "    </tr>\n",
       "  </thead>\n",
       "  <tbody>\n",
       "    <tr>\n",
       "      <th>0</th>\n",
       "      <td>9791160947427</td>\n",
       "      <td>2021-08-31</td>\n",
       "    </tr>\n",
       "    <tr>\n",
       "      <th>1</th>\n",
       "      <td>9791191825022</td>\n",
       "      <td>2021-08-31</td>\n",
       "    </tr>\n",
       "    <tr>\n",
       "      <th>2</th>\n",
       "      <td>9788934989349</td>\n",
       "      <td>2021-08-31</td>\n",
       "    </tr>\n",
       "    <tr>\n",
       "      <th>3</th>\n",
       "      <td>9788998940010</td>\n",
       "      <td>2021-08-31</td>\n",
       "    </tr>\n",
       "    <tr>\n",
       "      <th>4</th>\n",
       "      <td>9791187512578</td>\n",
       "      <td>2021-08-31</td>\n",
       "    </tr>\n",
       "    <tr>\n",
       "      <th>...</th>\n",
       "      <td>...</td>\n",
       "      <td>...</td>\n",
       "    </tr>\n",
       "    <tr>\n",
       "      <th>85047</th>\n",
       "      <td>9791190582308</td>\n",
       "      <td>2020-08-31</td>\n",
       "    </tr>\n",
       "    <tr>\n",
       "      <th>85048</th>\n",
       "      <td>9791158511807</td>\n",
       "      <td>2020-08-31</td>\n",
       "    </tr>\n",
       "    <tr>\n",
       "      <th>85049</th>\n",
       "      <td>9791196572846</td>\n",
       "      <td>2020-08-31</td>\n",
       "    </tr>\n",
       "    <tr>\n",
       "      <th>85050</th>\n",
       "      <td>9791190242455</td>\n",
       "      <td>2020-08-31</td>\n",
       "    </tr>\n",
       "    <tr>\n",
       "      <th>85051</th>\n",
       "      <td>9791190710053</td>\n",
       "      <td>2020-08-31</td>\n",
       "    </tr>\n",
       "  </tbody>\n",
       "</table>\n",
       "<p>85052 rows × 2 columns</p>\n",
       "</div>"
      ],
      "text/plain": [
       "                isbn   loan_time\n",
       "0      9791160947427  2021-08-31\n",
       "1      9791191825022  2021-08-31\n",
       "2      9788934989349  2021-08-31\n",
       "3      9788998940010  2021-08-31\n",
       "4      9791187512578  2021-08-31\n",
       "...              ...         ...\n",
       "85047  9791190582308  2020-08-31\n",
       "85048  9791158511807  2020-08-31\n",
       "85049  9791196572846  2020-08-31\n",
       "85050  9791190242455  2020-08-31\n",
       "85051  9791190710053  2020-08-31\n",
       "\n",
       "[85052 rows x 2 columns]"
      ]
     },
     "execution_count": 38,
     "metadata": {},
     "output_type": "execute_result"
    }
   ],
   "source": [
    "loan = pd.DataFrame({'isbn' : isbn, 'loan_time' : loan_time})\n",
    "loan.to_csv('loan.csv',index = False)\n",
    "loan"
   ]
  },
  {
   "cell_type": "code",
   "execution_count": 13,
   "id": "58d50bde-b354-43e1-a0de-c6f72ec887fc",
   "metadata": {},
   "outputs": [],
   "source": [
    "oa_key = '578ca4ba507631e4a9b621f4029400eac427aaf6071b45611e599387b637b6dc'"
   ]
  },
  {
   "cell_type": "code",
   "execution_count": 68,
   "id": "e8175196-421f-4d08-b28b-f07a0a3e538d",
   "metadata": {},
   "outputs": [
    {
     "name": "stderr",
     "output_type": "stream",
     "text": [
      "100%|██████████████████████████████████████████████████████████████████████████| 42279/42279 [1:00:54<00:00, 11.57it/s]\n"
     ]
    }
   ],
   "source": [
    "author = []\n",
    "publish_date = []\n",
    "title = []\n",
    "title_image_url = []\n",
    "pages = []\n",
    "price = []\n",
    "\n",
    "reader = []\n",
    "pub_type = []\n",
    "subject_1 = []\n",
    "subject_2 = []\n",
    "\n",
    "isbn = loan.isbn.value_counts().index\n",
    "blank_isbn = []\n",
    "isbn_loop = []\n",
    "for isb in trange(len(isbn)):\n",
    "    i = isbn[isb] \n",
    "    url = f'http://seoji.nl.go.kr/landingPage/SearchApi.do?cert_key={oa_key}&isbn={i}&result_style=json&page_size=1&page_no=1'\n",
    "    res = requests.get(url)\n",
    "    try:\n",
    "        info = res.json()['docs'][0]\n",
    "    except:\n",
    "        blank_isbn.append(i)\n",
    "        continue\n",
    "        \n",
    "    isbn_loop.append(i)\n",
    "    title.append(info['TITLE'])\n",
    "    title_image_url.append(info['TITLE_URL'])\n",
    "    \n",
    "    if info['REAL_PUBLISH_DATE'] == '':\n",
    "        publish_date.append(info['PUBLISH_PREDATE'])\n",
    "    else:\n",
    "        publish_date.append(info['REAL_PUBLISH_DATE'])\n",
    "        \n",
    "    if info['REAL_PRICE'] == '':\n",
    "        price.append(info['PRE_PRICE'])\n",
    "    else:\n",
    "        price.append(info['REAL_PRICE'])\n",
    "        \n",
    "    try:\n",
    "        ea_code = info['EA_ADD_CODE']\n",
    "        subject_1.append(info['EA_ADD_CODE'][2])\n",
    "        subject_2.append(info['EA_ADD_CODE'][3])\n",
    "        reader.append(info['EA_ADD_CODE'][0])\n",
    "        pub_type.append(info['EA_ADD_CODE'][1])\n",
    "    except:\n",
    "        subject_1.append(np.NaN)\n",
    "        subject_2.append(np.NaN)\n",
    "        reader.append(np.NaN)\n",
    "        pub_type.append(np.NaN)\n",
    "    pages.append(info['PAGE'])\n",
    "    author.append(info['AUTHOR'])"
   ]
  },
  {
   "cell_type": "code",
   "execution_count": null,
   "id": "9d00a292-43e8-41e8-b320-0421686e5f67",
   "metadata": {},
   "outputs": [],
   "source": [
    "book = pd.DataFrame({'isbn' : isbn_loop, 'author' : author, 'pub_date' : publish_date, 'title' : title, 'title_image_url' : title_image_url, 'pages' : pages, 'price' :  price, 'reader' : reader, 'pub_type' : pub_type, 'subject_1' : subject_1, 'subject_2' : subject_2})\n",
    "book.to_csv('book.csv', index = False)"
   ]
  },
  {
   "cell_type": "code",
   "execution_count": 14,
   "id": "844d3c81-4d27-4347-996b-e1f58f63a947",
   "metadata": {},
   "outputs": [
    {
     "data": {
      "text/html": [
       "<div>\n",
       "<style scoped>\n",
       "    .dataframe tbody tr th:only-of-type {\n",
       "        vertical-align: middle;\n",
       "    }\n",
       "\n",
       "    .dataframe tbody tr th {\n",
       "        vertical-align: top;\n",
       "    }\n",
       "\n",
       "    .dataframe thead th {\n",
       "        text-align: right;\n",
       "    }\n",
       "</style>\n",
       "<table border=\"1\" class=\"dataframe\">\n",
       "  <thead>\n",
       "    <tr style=\"text-align: right;\">\n",
       "      <th></th>\n",
       "      <th>isbn</th>\n",
       "      <th>author</th>\n",
       "      <th>pub_date</th>\n",
       "      <th>title</th>\n",
       "      <th>title_image_url</th>\n",
       "      <th>pages</th>\n",
       "      <th>price</th>\n",
       "      <th>reader</th>\n",
       "      <th>pub_type</th>\n",
       "      <th>subject_1</th>\n",
       "      <th>subject_2</th>\n",
       "    </tr>\n",
       "  </thead>\n",
       "  <tbody>\n",
       "    <tr>\n",
       "      <th>0</th>\n",
       "      <td>9788984374164</td>\n",
       "      <td>지은이: 기욤 뮈소 ;옮긴이: 양영란</td>\n",
       "      <td>20201124.0</td>\n",
       "      <td>인생은 소설이다</td>\n",
       "      <td>https://image.aladin.co.kr/product/25594/44/co...</td>\n",
       "      <td>311 p.</td>\n",
       "      <td>15000</td>\n",
       "      <td>0.0</td>\n",
       "      <td>3.0</td>\n",
       "      <td>8.0</td>\n",
       "      <td>6.0</td>\n",
       "    </tr>\n",
       "    <tr>\n",
       "      <th>1</th>\n",
       "      <td>9791160953268</td>\n",
       "      <td>충청남도교육청교육연수원 [편]</td>\n",
       "      <td>20190401.0</td>\n",
       "      <td>(2019) 제16기 핵심인재 양성과정</td>\n",
       "      <td>NaN</td>\n",
       "      <td>xvi, 467 p.</td>\n",
       "      <td>비매품/무료</td>\n",
       "      <td>1.0</td>\n",
       "      <td>3.0</td>\n",
       "      <td>3.0</td>\n",
       "      <td>5.0</td>\n",
       "    </tr>\n",
       "    <tr>\n",
       "      <th>2</th>\n",
       "      <td>9788934986652</td>\n",
       "      <td>글:오은영 ;그림: 차상미</td>\n",
       "      <td>20201025.0</td>\n",
       "      <td>어떻게 말해줘야 할까</td>\n",
       "      <td>http://seoji.nl.go.kr/fu/ecip/dbfiles/CIP_FILE...</td>\n",
       "      <td>397 p.</td>\n",
       "      <td>17500</td>\n",
       "      <td>1.0</td>\n",
       "      <td>3.0</td>\n",
       "      <td>5.0</td>\n",
       "      <td>9.0</td>\n",
       "    </tr>\n",
       "    <tr>\n",
       "      <th>3</th>\n",
       "      <td>9791190808125</td>\n",
       "      <td>라곰씨 글 ;차차 그림</td>\n",
       "      <td>20210129.0</td>\n",
       "      <td>(무엇이든 해결단) 허팝 연구소</td>\n",
       "      <td>https://image.aladin.co.kr/product/26240/52/co...</td>\n",
       "      <td>124 p.</td>\n",
       "      <td>13000</td>\n",
       "      <td>7.0</td>\n",
       "      <td>4.0</td>\n",
       "      <td>8.0</td>\n",
       "      <td>1.0</td>\n",
       "    </tr>\n",
       "    <tr>\n",
       "      <th>4</th>\n",
       "      <td>9791164137176</td>\n",
       "      <td>흔한남매 원작 ;김언정 글 ;차차 그림</td>\n",
       "      <td>20201215.0</td>\n",
       "      <td>(흔한남매) 별난 방탈출</td>\n",
       "      <td>https://image.aladin.co.kr/product/25813/3/cov...</td>\n",
       "      <td>126 p.</td>\n",
       "      <td>12000</td>\n",
       "      <td>7.0</td>\n",
       "      <td>7.0</td>\n",
       "      <td>8.0</td>\n",
       "      <td>1.0</td>\n",
       "    </tr>\n",
       "    <tr>\n",
       "      <th>...</th>\n",
       "      <td>...</td>\n",
       "      <td>...</td>\n",
       "      <td>...</td>\n",
       "      <td>...</td>\n",
       "      <td>...</td>\n",
       "      <td>...</td>\n",
       "      <td>...</td>\n",
       "      <td>...</td>\n",
       "      <td>...</td>\n",
       "      <td>...</td>\n",
       "      <td>...</td>\n",
       "    </tr>\n",
       "    <tr>\n",
       "      <th>37312</th>\n",
       "      <td>9788954677547</td>\n",
       "      <td>바버라 오클리 지음 ;김아림 옮김</td>\n",
       "      <td>20210302.0</td>\n",
       "      <td>이과형 두뇌 활용법</td>\n",
       "      <td>https://bookthumb-phinf.pstatic.net/cover/180/...</td>\n",
       "      <td>369 p.</td>\n",
       "      <td>17000</td>\n",
       "      <td>0.0</td>\n",
       "      <td>3.0</td>\n",
       "      <td>4.0</td>\n",
       "      <td>0.0</td>\n",
       "    </tr>\n",
       "    <tr>\n",
       "      <th>37313</th>\n",
       "      <td>9791189329068</td>\n",
       "      <td>권미정;김은주;백난희;양승옥;유율희;윤미옥;이지형;임희</td>\n",
       "      <td>20200310.0</td>\n",
       "      <td>당신의 행복은 안녕하신가요?</td>\n",
       "      <td>https://image.aladin.co.kr/product/24131/1/cov...</td>\n",
       "      <td>307 p.</td>\n",
       "      <td>20000</td>\n",
       "      <td>0.0</td>\n",
       "      <td>3.0</td>\n",
       "      <td>1.0</td>\n",
       "      <td>9.0</td>\n",
       "    </tr>\n",
       "    <tr>\n",
       "      <th>37314</th>\n",
       "      <td>9788997728404</td>\n",
       "      <td>글: 마크 서머셋 ; 그림: 로완 서머셋</td>\n",
       "      <td>20131126.0</td>\n",
       "      <td>똑똑해지는 약</td>\n",
       "      <td>http://seoji.nl.go.kr/fu/ecip/dbfiles/CIP_FILE...</td>\n",
       "      <td>NaN</td>\n",
       "      <td>15000</td>\n",
       "      <td>7.0</td>\n",
       "      <td>7.0</td>\n",
       "      <td>8.0</td>\n",
       "      <td>9.0</td>\n",
       "    </tr>\n",
       "    <tr>\n",
       "      <th>37315</th>\n",
       "      <td>9791189773175</td>\n",
       "      <td>저자 : 윤혜정</td>\n",
       "      <td>20200601.0</td>\n",
       "      <td>민들레야, 잘가</td>\n",
       "      <td>https://image.aladin.co.kr/product/24265/18/co...</td>\n",
       "      <td>42</td>\n",
       "      <td>15,000</td>\n",
       "      <td>0.0</td>\n",
       "      <td>7.0</td>\n",
       "      <td>8.0</td>\n",
       "      <td>0.0</td>\n",
       "    </tr>\n",
       "    <tr>\n",
       "      <th>37316</th>\n",
       "      <td>9791190689175</td>\n",
       "      <td>맬컴 더피 글 ;조수연 옮김</td>\n",
       "      <td>20210405.0</td>\n",
       "      <td>은밀하고 위험한 엄마 구출 작전</td>\n",
       "      <td>http://seoji.nl.go.kr/fu/ecip/dbfiles/CIP_FILE...</td>\n",
       "      <td>291 p.</td>\n",
       "      <td>12000</td>\n",
       "      <td>4.0</td>\n",
       "      <td>3.0</td>\n",
       "      <td>8.0</td>\n",
       "      <td>4.0</td>\n",
       "    </tr>\n",
       "  </tbody>\n",
       "</table>\n",
       "<p>37317 rows × 11 columns</p>\n",
       "</div>"
      ],
      "text/plain": [
       "                isbn                          author    pub_date  \\\n",
       "0      9788984374164            지은이: 기욤 뮈소 ;옮긴이: 양영란  20201124.0   \n",
       "1      9791160953268                충청남도교육청교육연수원 [편]  20190401.0   \n",
       "2      9788934986652                  글:오은영 ;그림: 차상미  20201025.0   \n",
       "3      9791190808125                    라곰씨 글 ;차차 그림  20210129.0   \n",
       "4      9791164137176           흔한남매 원작 ;김언정 글 ;차차 그림  20201215.0   \n",
       "...              ...                             ...         ...   \n",
       "37312  9788954677547              바버라 오클리 지음 ;김아림 옮김  20210302.0   \n",
       "37313  9791189329068  권미정;김은주;백난희;양승옥;유율희;윤미옥;이지형;임희  20200310.0   \n",
       "37314  9788997728404          글: 마크 서머셋 ; 그림: 로완 서머셋  20131126.0   \n",
       "37315  9791189773175                        저자 : 윤혜정  20200601.0   \n",
       "37316  9791190689175                 맬컴 더피 글 ;조수연 옮김  20210405.0   \n",
       "\n",
       "                       title  \\\n",
       "0                   인생은 소설이다   \n",
       "1      (2019) 제16기 핵심인재 양성과정   \n",
       "2                어떻게 말해줘야 할까   \n",
       "3          (무엇이든 해결단) 허팝 연구소   \n",
       "4              (흔한남매) 별난 방탈출   \n",
       "...                      ...   \n",
       "37312             이과형 두뇌 활용법   \n",
       "37313        당신의 행복은 안녕하신가요?   \n",
       "37314                똑똑해지는 약   \n",
       "37315               민들레야, 잘가   \n",
       "37316      은밀하고 위험한 엄마 구출 작전   \n",
       "\n",
       "                                         title_image_url        pages   price  \\\n",
       "0      https://image.aladin.co.kr/product/25594/44/co...       311 p.   15000   \n",
       "1                                                    NaN  xvi, 467 p.  비매품/무료   \n",
       "2      http://seoji.nl.go.kr/fu/ecip/dbfiles/CIP_FILE...       397 p.   17500   \n",
       "3      https://image.aladin.co.kr/product/26240/52/co...       124 p.   13000   \n",
       "4      https://image.aladin.co.kr/product/25813/3/cov...       126 p.   12000   \n",
       "...                                                  ...          ...     ...   \n",
       "37312  https://bookthumb-phinf.pstatic.net/cover/180/...       369 p.   17000   \n",
       "37313  https://image.aladin.co.kr/product/24131/1/cov...       307 p.   20000   \n",
       "37314  http://seoji.nl.go.kr/fu/ecip/dbfiles/CIP_FILE...          NaN   15000   \n",
       "37315  https://image.aladin.co.kr/product/24265/18/co...           42  15,000   \n",
       "37316  http://seoji.nl.go.kr/fu/ecip/dbfiles/CIP_FILE...       291 p.   12000   \n",
       "\n",
       "       reader  pub_type  subject_1  subject_2  \n",
       "0         0.0       3.0        8.0        6.0  \n",
       "1         1.0       3.0        3.0        5.0  \n",
       "2         1.0       3.0        5.0        9.0  \n",
       "3         7.0       4.0        8.0        1.0  \n",
       "4         7.0       7.0        8.0        1.0  \n",
       "...       ...       ...        ...        ...  \n",
       "37312     0.0       3.0        4.0        0.0  \n",
       "37313     0.0       3.0        1.0        9.0  \n",
       "37314     7.0       7.0        8.0        9.0  \n",
       "37315     0.0       7.0        8.0        0.0  \n",
       "37316     4.0       3.0        8.0        4.0  \n",
       "\n",
       "[37317 rows x 11 columns]"
      ]
     },
     "execution_count": 14,
     "metadata": {},
     "output_type": "execute_result"
    }
   ],
   "source": [
    "book = pd.read_csv('book.csv')\n",
    "book"
   ]
  },
  {
   "cell_type": "code",
   "execution_count": 15,
   "id": "fc687b27-3363-4c84-8780-b940559e97d6",
   "metadata": {},
   "outputs": [
    {
     "data": {
      "text/plain": [
       "https://image.aladin.co.kr/product/25836/43/cover/8949105292_1.jpg                  2\n",
       "http://seoji.nl.go.kr/fu/ecip/dbfiles/CIP_FILES_TBL/2020/07/08/9791196541279.jpg    1\n",
       "https://image.aladin.co.kr/product/24615/74/cover/k712631272_1.jpg                  1\n",
       "http://seoji.nl.go.kr/fu/ecip/dbfiles/CIP_FILES_TBL/2020/12/09/9791190971171.jpg    1\n",
       "https://image.aladin.co.kr/product/24616/12/cover/k202631273_1.jpg                  1\n",
       "                                                                                   ..\n",
       "http://seoji.nl.go.kr/fu/ecip/dbfiles/CIP_FILES_TBL/2020/07/01/9788967451028.JPG    1\n",
       "https://image.aladin.co.kr/product/25694/16/cover/k792736569_1.jpg                  1\n",
       "http://seoji.nl.go.kr/fu/ecip/dbfiles/CIP_FILES_TBL/2020/08/02/9791190898089.jpg    1\n",
       "http://image.aladin.co.kr/product/10336/89/cover/k082536589_1.jpg                   1\n",
       "https://image.aladin.co.kr/product/25507/0/cover/8946069732_1.jpg                   1\n",
       "Name: title_image_url, Length: 30135, dtype: int64"
      ]
     },
     "execution_count": 15,
     "metadata": {},
     "output_type": "execute_result"
    }
   ],
   "source": [
    "book.title_image_url.value_counts()"
   ]
  },
  {
   "cell_type": "code",
   "execution_count": 16,
   "id": "5b6a475a-dfaf-42a1-ae43-c1a4e2c77d7c",
   "metadata": {},
   "outputs": [
    {
     "name": "stderr",
     "output_type": "stream",
     "text": [
      "100%|██████████████████████████████████████████████████████████████████████████████| 7181/7181 [38:52<00:00,  3.08it/s]\n"
     ]
    }
   ],
   "source": [
    "#국중 open API에 없던 것들을 도서관정보나루 API에서 받아옴\n",
    "\n",
    "no_image = book.loc[(book.title_image_url.isna()) | (book.title_image_url == ''), ]\n",
    "isbn = no_image.isbn\n",
    "title_image_url = []\n",
    "\n",
    "for isb in trange(len(isbn)):\n",
    "    try:\n",
    "        i = isbn.iloc[isb]\n",
    "        url = f'http://data4library.kr/api/srchDtlList?authKey={jn_key}&isbn13={i}&format=json'\n",
    "        res = requests.get(url)\n",
    "        title_image_url.append(res.json()['response']['detail'][0]['book']['bookImageURL'])\n",
    "    except:\n",
    "        title_image_url.append(np.NaN)"
   ]
  },
  {
   "cell_type": "code",
   "execution_count": 17,
   "id": "7381ce2d-1294-4c34-b55b-b1da049ba3da",
   "metadata": {},
   "outputs": [
    {
     "name": "stderr",
     "output_type": "stream",
     "text": [
      "100%|████████████████████████████████████████████████████████████████████████████| 7181/7181 [00:06<00:00, 1145.24it/s]\n"
     ]
    }
   ],
   "source": [
    "for isb in trange(len(isbn)):\n",
    "    i = isbn.iloc[isb]\n",
    "    book.loc[book.isbn == i,'title_image_url'] = title_image_url[isb]"
   ]
  },
  {
   "cell_type": "code",
   "execution_count": 18,
   "id": "64b52489-d033-4f4d-9199-2ac100d67978",
   "metadata": {},
   "outputs": [],
   "source": [
    "book.to_csv('book.csv', index = False)"
   ]
  },
  {
   "cell_type": "code",
   "execution_count": 2,
   "id": "0d0c2c78-5870-479e-9b86-a167d7386790",
   "metadata": {},
   "outputs": [],
   "source": [
    "book = pd.read_csv('book.csv', dtype = {'isbn' : 'object'})"
   ]
  },
  {
   "cell_type": "code",
   "execution_count": 3,
   "id": "c4bcf13b-59cb-40dd-b216-121e5a7e4558",
   "metadata": {},
   "outputs": [
    {
     "name": "stderr",
     "output_type": "stream",
     "text": [
      "100%|██████████████████████████████████████████████████████████████████████████| 30136/30136 [1:28:01<00:00,  5.71it/s]\n"
     ]
    }
   ],
   "source": [
    "only_image = (book.loc[pd.DataFrame({'col1' : book.title_image_url.notna(),'col2' : book.title_image_url != ''}).all(axis = 1), ['isbn','title_image_url']]).reset_index(drop=True)\n",
    "image_isbn = []\n",
    "\n",
    "for i in trange(len(only_image)):\n",
    "    try:\n",
    "        urllib.request.urlretrieve(only_image.iloc[i,1], f'C:/Users/soymi/Desktop/lib_git/2021-2Capstonedesign/image/{only_image.iloc[i,0]}.jpg')\n",
    "        image_isbn.append(only_image.iloc[i,0])\n",
    "    except:\n",
    "        continue"
   ]
  },
  {
   "cell_type": "code",
   "execution_count": 4,
   "id": "544758a8-a4e2-474d-9ad4-96d922393d5f",
   "metadata": {},
   "outputs": [
    {
     "data": {
      "text/plain": [
       "['image_isbn_list.pkl']"
      ]
     },
     "execution_count": 4,
     "metadata": {},
     "output_type": "execute_result"
    }
   ],
   "source": [
    "joblib.dump(image_isbn, 'image_isbn_list.pkl')"
   ]
  },
  {
   "cell_type": "markdown",
   "id": "b9d0196f-702c-4bf1-9b15-0fc6b822cd47",
   "metadata": {},
   "source": [
    "<h2>데이터 수집 끝 - 전처리시작</h2>\n",
    "\n",
    "<h3>1차적으로 이미지가 주제 혹은 특정한 의미를 나타낼정도로 의미를 갖는지 보기 위해 이미지로 주제번호를 예측하는 모델, 표제 등장 단어로 주제번호를 예측하는 모델을 만들어봄</h3>"
   ]
  },
  {
   "cell_type": "code",
   "execution_count": 8,
   "id": "da82a590-99cc-48a6-81d0-c639693d743f",
   "metadata": {},
   "outputs": [],
   "source": [
    "book = pd.read_csv('book.csv', dtype = {'isbn' : 'object'})\n",
    "image_isbn = joblib.load('image_isbn_list.pkl')"
   ]
  },
  {
   "cell_type": "code",
   "execution_count": 9,
   "id": "28fbb550-cbcf-4e23-a9f9-6c3bd43552de",
   "metadata": {},
   "outputs": [
    {
     "data": {
      "text/plain": [
       "30123"
      ]
     },
     "execution_count": 9,
     "metadata": {},
     "output_type": "execute_result"
    }
   ],
   "source": [
    "len(image_isbn)"
   ]
  },
  {
   "cell_type": "code",
   "execution_count": 10,
   "id": "375f21f2-6fa8-4994-a7bb-5a7dc78f1dc3",
   "metadata": {},
   "outputs": [],
   "source": [
    "def get_sbj(X):\n",
    "    return book.loc[book.isbn == X, 'subject_1'].item()\n",
    "\n",
    "image_subject = list(map(get_sbj, image_isbn))"
   ]
  },
  {
   "cell_type": "code",
   "execution_count": 11,
   "id": "aa14b07d-adb2-4d4e-a8d4-5d57f8c29371",
   "metadata": {},
   "outputs": [],
   "source": [
    "del(book)\n",
    "image_df = pd.DataFrame({'isbn' : image_isbn, 'subject' : image_subject})\n",
    "image_df = image_df.loc[image_df.subject.notna(),:]"
   ]
  },
  {
   "cell_type": "code",
   "execution_count": 12,
   "id": "42ae1db9-001f-4a6b-b203-f39546997458",
   "metadata": {},
   "outputs": [
    {
     "name": "stderr",
     "output_type": "stream",
     "text": [
      " 27%|████████████████████▊                                                       | 8224/30055 [01:41<03:36, 100.61it/s]C:\\Users\\soymi\\anaconda3\\lib\\site-packages\\PIL\\Image.py:2855: DecompressionBombWarning: Image size (95448150 pixels) exceeds limit of 89478485 pixels, could be decompression bomb DOS attack.\n",
      "  warnings.warn(\n",
      " 42%|███████████████████████████████▌                                            | 12480/30055 [02:36<03:37, 80.95it/s]C:\\Users\\soymi\\anaconda3\\lib\\site-packages\\PIL\\Image.py:2855: DecompressionBombWarning: Image size (126802270 pixels) exceeds limit of 89478485 pixels, could be decompression bomb DOS attack.\n",
      "  warnings.warn(\n",
      " 51%|█████████████████████████████████████▉                                     | 15215/30055 [03:13<01:55, 128.73it/s]C:\\Users\\soymi\\anaconda3\\lib\\site-packages\\PIL\\Image.py:2855: DecompressionBombWarning: Image size (157754760 pixels) exceeds limit of 89478485 pixels, could be decompression bomb DOS attack.\n",
      "  warnings.warn(\n",
      " 56%|██████████████████████████████████████████▌                                 | 16844/30055 [03:36<03:21, 65.54it/s]C:\\Users\\soymi\\anaconda3\\lib\\site-packages\\PIL\\Image.py:2855: DecompressionBombWarning: Image size (101625372 pixels) exceeds limit of 89478485 pixels, could be decompression bomb DOS attack.\n",
      "  warnings.warn(\n",
      " 75%|█████████████████████████████████████████████████████████▎                  | 22678/30055 [04:52<01:41, 72.80it/s]C:\\Users\\soymi\\anaconda3\\lib\\site-packages\\PIL\\Image.py:2855: DecompressionBombWarning: Image size (144861586 pixels) exceeds limit of 89478485 pixels, could be decompression bomb DOS attack.\n",
      "  warnings.warn(\n",
      " 85%|████████████████████████████████████████████████████████████████▌           | 25522/30055 [05:29<01:03, 71.81it/s]C:\\Users\\soymi\\anaconda3\\lib\\site-packages\\PIL\\Image.py:2855: DecompressionBombWarning: Image size (110358850 pixels) exceeds limit of 89478485 pixels, could be decompression bomb DOS attack.\n",
      "  warnings.warn(\n",
      " 90%|████████████████████████████████████████████████████████████████████▍       | 27046/30055 [05:50<00:30, 98.92it/s]C:\\Users\\soymi\\anaconda3\\lib\\site-packages\\PIL\\Image.py:2855: DecompressionBombWarning: Image size (113343419 pixels) exceeds limit of 89478485 pixels, could be decompression bomb DOS attack.\n",
      "  warnings.warn(\n",
      "100%|████████████████████████████████████████████████████████████████████████████| 30055/30055 [06:32<00:00, 76.49it/s]\n"
     ]
    }
   ],
   "source": [
    "image_list = []\n",
    "image_isbn = []\n",
    "for isb in trange(len(image_df.isbn)):\n",
    "    try:\n",
    "        isbn = image_df.isbn.iloc[isb]\n",
    "        img = tf.keras.preprocessing.image.load_img(f'C:/Users/soymi/Desktop/lib_git/2021-2Capstonedesign/image/{isbn}.jpg', target_size = (224, 224))\n",
    "        img_a = np.expand_dims(tf.keras.preprocessing.image.img_to_array(img), axis = 0)\n",
    "        img_a = tf.keras.applications.efficientnet.preprocess_input(img_a)\n",
    "        image_list.append(img_a)\n",
    "        image_isbn.append(isbn)\n",
    "    except:\n",
    "        continue\n",
    "        \n",
    "image_list = np.concatenate(image_list)\n",
    "\n",
    "image_df = image_df.loc[image_df.isbn.isin(image_isbn),:]"
   ]
  },
  {
   "cell_type": "code",
   "execution_count": 13,
   "id": "ecc2a02b-2eb4-4107-820a-0b4f9dec1a63",
   "metadata": {},
   "outputs": [
    {
     "data": {
      "text/plain": [
       "0        8\n",
       "1        5\n",
       "2        8\n",
       "3        8\n",
       "4        8\n",
       "        ..\n",
       "30118    4\n",
       "30119    1\n",
       "30120    8\n",
       "30121    8\n",
       "30122    8\n",
       "Name: subject, Length: 30037, dtype: int8"
      ]
     },
     "execution_count": 13,
     "metadata": {},
     "output_type": "execute_result"
    }
   ],
   "source": [
    "label = image_df.subject.astype('int8')\n",
    "label"
   ]
  },
  {
   "cell_type": "code",
   "execution_count": 14,
   "id": "8be3c0f0-b831-4f0a-a968-bf8e00847584",
   "metadata": {},
   "outputs": [
    {
     "data": {
      "text/plain": [
       "(30037, 224, 224, 3)"
      ]
     },
     "execution_count": 14,
     "metadata": {},
     "output_type": "execute_result"
    }
   ],
   "source": [
    "image_list.shape"
   ]
  },
  {
   "cell_type": "code",
   "execution_count": 15,
   "id": "943ffde6-2d30-4ec5-995c-715bc8a4b940",
   "metadata": {},
   "outputs": [
    {
     "data": {
      "text/plain": [
       "['model1_X.pkl']"
      ]
     },
     "execution_count": 15,
     "metadata": {},
     "output_type": "execute_result"
    }
   ],
   "source": [
    "joblib.dump(label, 'model1_label.pkl')\n",
    "joblib.dump(image_list, 'model1_X.pkl')"
   ]
  },
  {
   "cell_type": "code",
   "execution_count": 2,
   "id": "f764227a-3c5a-444e-b89d-bc694a9d0a34",
   "metadata": {},
   "outputs": [],
   "source": [
    "label = joblib.load('model1_label.pkl')\n",
    "image_list = joblib.load('model1_X.pkl')"
   ]
  },
  {
   "cell_type": "code",
   "execution_count": 3,
   "id": "9e85642a-d617-4156-ae49-9bce7d44ed71",
   "metadata": {},
   "outputs": [],
   "source": [
    "X_train, X_val, y_train, y_val = train_test_split(image_list, label, shuffle=True, stratify = label, train_size = .8, random_state = 42)\n",
    "del(image_list)"
   ]
  },
  {
   "cell_type": "code",
   "execution_count": 4,
   "id": "a1762a04-a8b6-47d8-9a13-92eac35b8e87",
   "metadata": {},
   "outputs": [
    {
     "data": {
      "text/plain": [
       "8    11996\n",
       "3     6135\n",
       "5     2100\n",
       "9     2030\n",
       "1     1951\n",
       "2     1472\n",
       "6     1430\n",
       "4     1330\n",
       "0     1167\n",
       "7      426\n",
       "Name: subject, dtype: int64"
      ]
     },
     "execution_count": 4,
     "metadata": {},
     "output_type": "execute_result"
    }
   ],
   "source": [
    "label.value_counts()"
   ]
  },
  {
   "cell_type": "code",
   "execution_count": 5,
   "id": "13353893-adc5-46f3-ab1f-6c43cb824623",
   "metadata": {},
   "outputs": [
    {
     "data": {
      "text/plain": [
       "(24029, 224, 224, 3)"
      ]
     },
     "execution_count": 5,
     "metadata": {},
     "output_type": "execute_result"
    }
   ],
   "source": [
    "X_train.shape"
   ]
  },
  {
   "cell_type": "code",
   "execution_count": 14,
   "id": "99275de1-5147-4313-bdf8-8bc10078784b",
   "metadata": {},
   "outputs": [],
   "source": [
    "tf.random.set_seed(42)\n",
    "effnetb4 = tf.keras.applications.EfficientNetB4(weights = 'imagenet', include_top = False, input_shape = (224,224,3))\n",
    "for layer in effnetb4.layers:\n",
    "    layer.trainable = False\n",
    "\n",
    "fcmlp = effnetb4.output\n",
    "fcmlp = tf.keras.layers.GlobalAveragePooling2D()(fcmlp)\n",
    "fcmlp = tf.keras.layers.Dense(1024, activation = 'selu', kernel_initializer = tf.keras.initializers.he_normal(seed = 42))(fcmlp)\n",
    "fcmlp = tf.keras.layers.BatchNormalization()(fcmlp)\n",
    "fcmlp = tf.keras.layers.Dense(512, activation = 'selu', kernel_initializer = tf.keras.initializers.he_normal(seed = 42))(fcmlp)\n",
    "fcmlp = tf.keras.layers.BatchNormalization()(fcmlp)\n",
    "fcmlp = tf.keras.layers.Dense(256, activation = 'selu', kernel_initializer = tf.keras.initializers.he_normal(seed = 42))(fcmlp)\n",
    "fcmlp = tf.keras.layers.BatchNormalization()(fcmlp)\n",
    "fcmlp = tf.keras.layers.Dense(10, activation = 'softmax')(fcmlp)\n",
    "\n",
    "model = tf.keras.Model(inputs = effnetb4.input, outputs = fcmlp)\n",
    "\n",
    "optimizer = tf.keras.optimizers.Nadam(learning_rate = 0.01, beta_1=0.95, beta_2=0.99, epsilon = 1e-07)\n",
    "model.compile(loss = 'sparse_categorical_crossentropy', optimizer = optimizer, metrics = ['accuracy'])"
   ]
  },
  {
   "cell_type": "code",
   "execution_count": 16,
   "id": "b5f856d1-6c2c-41e1-a831-ea810d2910d3",
   "metadata": {},
   "outputs": [
    {
     "name": "stdout",
     "output_type": "stream",
     "text": [
      "Epoch 1/30\n",
      "376/376 [==============================] - 60s 160ms/step - loss: 1.6577 - accuracy: 0.4820 - val_loss: 1.6865 - val_accuracy: 0.4762\n",
      "Epoch 2/30\n",
      "376/376 [==============================] - 59s 156ms/step - loss: 1.5716 - accuracy: 0.5051 - val_loss: 1.6277 - val_accuracy: 0.5060\n",
      "Epoch 3/30\n",
      "376/376 [==============================] - 59s 156ms/step - loss: 1.5042 - accuracy: 0.5207 - val_loss: 1.5706 - val_accuracy: 0.5148\n",
      "Epoch 4/30\n",
      "376/376 [==============================] - 59s 157ms/step - loss: 1.4213 - accuracy: 0.5430 - val_loss: 1.5960 - val_accuracy: 0.5082\n",
      "Epoch 5/30\n",
      "376/376 [==============================] - 59s 157ms/step - loss: 1.3278 - accuracy: 0.5703 - val_loss: 1.6540 - val_accuracy: 0.5003\n",
      "Epoch 6/30\n",
      "376/376 [==============================] - 59s 157ms/step - loss: 1.2351 - accuracy: 0.5962 - val_loss: 1.6694 - val_accuracy: 0.4942\n",
      "Epoch 7/30\n",
      "376/376 [==============================] - 59s 156ms/step - loss: 1.1455 - accuracy: 0.6237 - val_loss: 1.6796 - val_accuracy: 0.5022\n",
      "Epoch 8/30\n",
      "376/376 [==============================] - 59s 157ms/step - loss: 1.0485 - accuracy: 0.6540 - val_loss: 1.7566 - val_accuracy: 0.4903\n"
     ]
    }
   ],
   "source": [
    "callback = tf.keras.callbacks.EarlyStopping(monitor='val_accuracy', patience=5)\n",
    "history = model.fit(X_train, y_train, epochs = 30, batch_size = 64, callbacks = [callback], validation_data=(X_val, y_val))"
   ]
  },
  {
   "cell_type": "code",
   "execution_count": 19,
   "id": "aa83f067-2766-4282-8f6c-e35395b95bce",
   "metadata": {},
   "outputs": [
    {
     "name": "stdout",
     "output_type": "stream",
     "text": [
      "Epoch 1/50\n",
      "376/376 [==============================] - 59s 156ms/step - loss: 0.7893 - accuracy: 0.7347 - val_loss: 2.0868 - val_accuracy: 0.4482\n",
      "Epoch 2/50\n",
      "376/376 [==============================] - 59s 156ms/step - loss: 0.7152 - accuracy: 0.7540 - val_loss: 2.1401 - val_accuracy: 0.4915\n",
      "Epoch 3/50\n",
      "376/376 [==============================] - 59s 158ms/step - loss: 0.7026 - accuracy: 0.7603 - val_loss: 2.0918 - val_accuracy: 0.4958\n",
      "Epoch 4/50\n",
      "376/376 [==============================] - 59s 158ms/step - loss: 0.6681 - accuracy: 0.7715 - val_loss: 2.2057 - val_accuracy: 0.4587\n",
      "Epoch 5/50\n",
      "376/376 [==============================] - 59s 157ms/step - loss: 0.6185 - accuracy: 0.7901 - val_loss: 2.3274 - val_accuracy: 0.4562\n",
      "Epoch 6/50\n",
      "376/376 [==============================] - 59s 157ms/step - loss: 0.5810 - accuracy: 0.8000 - val_loss: 2.3029 - val_accuracy: 0.4489\n",
      "Epoch 7/50\n",
      "376/376 [==============================] - 59s 157ms/step - loss: 0.5439 - accuracy: 0.8126 - val_loss: 2.4132 - val_accuracy: 0.4832\n",
      "Epoch 8/50\n",
      "376/376 [==============================] - 59s 157ms/step - loss: 0.5172 - accuracy: 0.8242 - val_loss: 2.3980 - val_accuracy: 0.4386\n"
     ]
    }
   ],
   "source": [
    "for layer in effnetb4.layers[324:]:\n",
    "    layer.trainable = True\n",
    "\n",
    "callback = tf.keras.callbacks.EarlyStopping(monitor='val_accuracy', patience=5)\n",
    "history2 = model.fit(X_train, y_train, epochs = 50, batch_size = 64, callbacks = [callback], validation_data=(X_val, y_val))"
   ]
  },
  {
   "cell_type": "markdown",
   "id": "ef82c3ba-a605-474c-8ee4-09b7270f42d5",
   "metadata": {},
   "source": [
    "특정 sample이 train에 가있는가 validation에 가있는가에 따라 차이가 굉장히 큼 -> 이거 어떻게할지 고민해봐야할듯? \n",
    "\n",
    "일단 train set에서 accuracy가 .8이 찍히는것을 보면 표지와 주제는 충분히 상관성이 있어보임. 자세한건 교수님과 상담 "
   ]
  },
  {
   "cell_type": "markdown",
   "id": "c91eecbd-48e8-405a-95cf-7979f9f3f9b0",
   "metadata": {},
   "source": [
    "<h3> 그 다음은 표제에서 사용된 단어로 주제를 표현할 수 있을지 알아볼 것임 </h3>"
   ]
  },
  {
   "cell_type": "code",
   "execution_count": null,
   "id": "6b501039-2b42-4366-b007-54a5fdcda09c",
   "metadata": {},
   "outputs": [],
   "source": []
  }
 ],
 "metadata": {
  "kernelspec": {
   "display_name": "Python 3",
   "language": "python",
   "name": "python3"
  },
  "language_info": {
   "codemirror_mode": {
    "name": "ipython",
    "version": 3
   },
   "file_extension": ".py",
   "mimetype": "text/x-python",
   "name": "python",
   "nbconvert_exporter": "python",
   "pygments_lexer": "ipython3",
   "version": "3.8.8"
  }
 },
 "nbformat": 4,
 "nbformat_minor": 5
}
